{
 "cells": [
  {
   "cell_type": "code",
   "execution_count": 113,
   "metadata": {
    "collapsed": false,
    "deletable": true,
    "editable": true
   },
   "outputs": [],
   "source": [
    "import numpy as np\n",
    "import astropy.cosmology as apcos\n",
    "from astropy import units as u\n",
    "from astropy import constants as const\n",
    "\n",
    "\n",
    "cosmo = apcos.WMAP7 \n",
    "\n",
    "h = u.def_unit('h', cosmo.H0 / (100 * (u.km / u.s) / u.Mpc))\n"
   ]
  },
  {
   "cell_type": "code",
   "execution_count": 116,
   "metadata": {
    "collapsed": false,
    "deletable": true,
    "editable": true
   },
   "outputs": [],
   "source": [
    "def interpolate_cen_cen(xi, yi, zi, vxi, vyi, vzi, xf, yf, zf, vxf, vyf, vzf, z_red_i, z_red_f, z_red_interpolate):\n",
    "    '''\n",
    "    xi, yi, zi are resecptively all arrays of the initial x,y,z coordinates of each galaxy.\n",
    "    xf, yf, zf are resecptively all arrays of the final x,y,z coordinates of each galaxy.\n",
    "    vxi, vyi, vzi are resecptively all arrays of the initial velocity in the x,y,z directions, for each galaxy.\n",
    "    vxf, vyf, vzf are resecptively all arrays of the final velocity in the x,y,z directions, for each galaxy.\n",
    "    z_red_i, z_red_f are respectively the initial and final redshifts of the galaxies.\n",
    "    z_red_interpolate is an array of the redshifts for interpolation, and should be between z_red_i and z_red_f.\n",
    "    \n",
    "    All galaxys should have the same initial and final times, and will be interpolated at the same locations.\n",
    "    \n",
    "    Note:  Units need to be Mpc/h for distances, and km/s for vecloties'''\n",
    "    \n",
    "    time_interp = cosmo.age(z_red_interpolate)\n",
    "    ti, tf = cosmo.age([z_red_i, z_red_f])\n",
    "        \n",
    "    tscaled = (time_interp - ti) / (tf - ti)\n",
    "    \n",
    "    unit_scale = (u.km / u.s * (tf-ti)).to(u.Mpc / h).value  #it's a unit thing\n",
    "    \n",
    "    xinit = np.asarray([xi, yi, zi]).T #* u.Mpc / h\n",
    "    xfin  = np.asarray([xf, yf, zf]).T #* u.Mpc / h\n",
    "    vinit = np.asarray([vxi, vyi, vzi]).T * unit_scale\n",
    "    vfin  = np.asarray([vxf, vyf, vzf]).T * unit_scale\n",
    "    \n",
    "    # Rescale t so that t1 = 0 and t2 = 1, then\n",
    "    # A = x(t1)\n",
    "    # B = v(t1)\n",
    "    # C = -2*v(t1) - 3*x(t1) - v(t2) + 3*x(t2)\n",
    "    # D = v(t1) + v(t2) + 2*(x(t1)-x(t2))\n",
    "    \n",
    "    # x(t) = A + B*t + C*t**2 + D*t**3\n",
    "    # v(t) = B + 2*C*t + 3*D*t**2  \n",
    "    \n",
    "     \n",
    "    A = xinit\n",
    "    B = vinit\n",
    "    C = -2*vinit - 3*xinit - vfin + 3*xfin\n",
    "    D = vinit + vfin + 2*(xinit-xfin)\n",
    "        \n",
    "    \n",
    "    pos_interp = np.add(A, np.tensordot(tscaled,B,axes=0) + \n",
    "                  np.tensordot(np.power(tscaled,2),C,axes=0) + np.tensordot(np.power(tscaled,3),D,axes=0))\n",
    "    \n",
    "    vel_interp = np.add(B, 2*np.tensordot(tscaled,C,axes=0) + \n",
    "                  3*np.tensordot(np.power(tscaled,2),D,axes=0))\n",
    "    \n",
    "    return time_interp.value, pos_interp, vel_interp\n",
    "       "
   ]
  },
  {
   "cell_type": "code",
   "execution_count": null,
   "metadata": {
    "collapsed": true
   },
   "outputs": [],
   "source": []
  },
  {
   "cell_type": "code",
   "execution_count": 115,
   "metadata": {
    "collapsed": false,
    "deletable": true,
    "editable": true
   },
   "outputs": [
    {
     "data": {
      "image/png": "[encoded data removed]",
      "text/plain": [
       "<matplotlib.figure.Figure at 0xc1e8790>"
      ]
     },
     "metadata": {},
     "output_type": "display_data"
    }
   ],
   "source": [
    "#Note: My personal testing\n",
    "\n",
    "import matplotlib.pyplot as pyplot\n",
    "\n",
    "init, fin = [1,1,0], [10,10,0]\n",
    "initv, finv = [5000, -50000, 0], [-4000, 2000, 0]\n",
    "\n",
    "times, pos, vel = interpolate_cen_cen(init[0],init[1],init[2],initv[0],initv[1],initv[2],\n",
    "                    fin[0],fin[1],fin[2],finv[0],finv[1],finv[2],5,1,np.arange(1,5,0.01))\n",
    "\n",
    "#print pos\n",
    "\n",
    "#print vel\n",
    "\n",
    "pyplot.figure()\n",
    "pyplot.scatter(pos[:,0], pos[:,1], c=\"red\")\n",
    "pyplot.scatter([init[0], fin[0]], [init[1], fin[1]], marker=\"x\")\n",
    "pyplot.show()\n",
    "\n",
    "\n",
    "\n"
   ]
  },
  {
   "cell_type": "code",
   "execution_count": 104,
   "metadata": {
    "collapsed": false,
    "deletable": true,
    "editable": true
   },
   "outputs": [
    {
     "data": {
      "image/png": "[encoded data removed]",
      "text/plain": [
       "<matplotlib.figure.Figure at 0x5765ed0>"
      ]
     },
     "metadata": {},
     "output_type": "display_data"
    },
    {
     "data": {
      "image/png": "[encoded data removed]",
      "text/plain": [
       "<matplotlib.figure.Figure at 0x91cc6d0>"
      ]
     },
     "metadata": {},
     "output_type": "display_data"
    },
    {
     "data": {
      "image/png": "[encoded data removed]",
      "text/plain": [
       "<matplotlib.figure.Figure at 0xaa4ced0>"
      ]
     },
     "metadata": {},
     "output_type": "display_data"
    },
    {
     "data": {
      "image/png": "[encoded data removed]",
      "text/plain": [
       "<matplotlib.figure.Figure at 0xb2bf710>"
      ]
     },
     "metadata": {},
     "output_type": "display_data"
    }
   ],
   "source": [
    "import matplotlib.pyplot as pyplot\n",
    "\n",
    "init, fin = [1,1,0], [10,10,0]\n",
    "initv, finv = [5000, -50000, 0], [-4000, 2000, 0]\n",
    "\n",
    "times, pos, vel = interpolate_cen_cen(init[0],init[1],init[2],initv[0],initv[1],initv[2],\n",
    "                    fin[0],fin[1],fin[2],finv[0],finv[1],finv[2],5,1,np.arange(1,5,0.01))\n",
    "\n",
    "#print pos\n",
    "\n",
    "#print vel\n",
    "\n",
    "pyplot.figure()\n",
    "pyplot.title(\"Same z.  Vel is (5000, -5000) -> (-4000, 2000)\")\n",
    "pyplot.scatter(pos[:,0], pos[:,1], c=\"blue\")\n",
    "pyplot.scatter([init[0], fin[0]], [init[1], fin[1]], c=\"red\")\n",
    "pyplot.xlim([-2, 12])\n",
    "pyplot.ylim([-25,12])\n",
    "pyplot.show()\n",
    "\n",
    "\n",
    "import matplotlib.pyplot as pyplot\n",
    "\n",
    "init, fin = [1,1,0], [10,10,0]\n",
    "initv, finv = [-2000, 6000, 0], [9000, 600,0]\n",
    "\n",
    "times, pos, vel = interpolate_cen_cen(init[0],init[1],init[2],initv[0],initv[1],initv[2],\n",
    "                    fin[0],fin[1],fin[2],finv[0],finv[1],finv[2],5,1,np.arange(1,5,0.01))\n",
    "\n",
    "#print pos\n",
    "\n",
    "#print vel\n",
    "\n",
    "pyplot.figure()\n",
    "pyplot.title(\"Same z.  Vel is (-2000, 6000) -> (12000, 1000)\")\n",
    "pyplot.scatter(pos[:,0], pos[:,1], c=\"blue\")\n",
    "pyplot.scatter([init[0], fin[0]], [init[1], fin[1]], c=\"red\")\n",
    "pyplot.xlim([-2, 12])\n",
    "pyplot.ylim([-25,12])\n",
    "pyplot.show()\n",
    "\n",
    "\n",
    "\n",
    "\n",
    "\n",
    "\n",
    "init, fin = [1,1,0], [10,10,0]\n",
    "initv, finv = [5000, -50000, 0], [-4000, 2000, 0]\n",
    "\n",
    "times, pos, vel = interpolate_cen_cen(init[0],init[1],init[2],initv[0],initv[1],initv[2],\n",
    "                    fin[0],fin[1],fin[2],finv[0],finv[1],finv[2],2,1,np.arange(1,2,0.01))\n",
    "\n",
    "st, sp, sv = interpolate_cen_cen(init[0],init[1],init[2],initv[0],initv[1],initv[2],\n",
    "                    fin[0],fin[1],fin[2],finv[0],finv[1],finv[2],2,1,1.5)\n",
    "\n",
    "#print pos\n",
    "\n",
    "#print vel\n",
    "\n",
    "pyplot.figure()\n",
    "pyplot.title(\"Same vel.  z is 2 -> 1\")\n",
    "pyplot.scatter(pos[:,0], pos[:,1], c=\"blue\")\n",
    "pyplot.scatter([init[0], fin[0]], [init[1], fin[1]], c=\"red\")\n",
    "pyplot.scatter(sp[0], sp[1], c=\"yellow\")\n",
    "pyplot.xlim([-2, 12])\n",
    "pyplot.ylim([-12,12])\n",
    "pyplot.show()\n",
    "\n",
    "\n",
    "\n",
    "\n",
    "\n",
    "\n",
    "init, fin = [1,1,0], [10,10,0]\n",
    "initv, finv = [5000, -50000, 0], [-4000, 2000, 0]\n",
    "\n",
    "times, pos, vel = interpolate_cen_cen(init[0],init[1],init[2],initv[0],initv[1],initv[2],\n",
    "                    fin[0],fin[1],fin[2],finv[0],finv[1],finv[2],3,2,np.arange(2,3,0.01))\n",
    "                    \n",
    "st, sp, sv = interpolate_cen_cen(init[0],init[1],init[2],initv[0],initv[1],initv[2],\n",
    "                    fin[0],fin[1],fin[2],finv[0],finv[1],finv[2],3,2,2.5)\n",
    "\n",
    "#print pos\n",
    "\n",
    "#print vel\n",
    "\n",
    "pyplot.figure()\n",
    "pyplot.title(\"Same vel.  z is 3 -> 2\")\n",
    "pyplot.scatter(pos[:,0], pos[:,1], c=\"blue\")\n",
    "pyplot.scatter([init[0], fin[0]], [init[1], fin[1]], c=\"red\")\n",
    "pyplot.scatter(sp[0], sp[1], c=\"yellow\")\n",
    "pyplot.xlim([-2, 12])\n",
    "pyplot.ylim([-12,12])\n",
    "pyplot.show()\n"
   ]
  }
 ],
 "metadata": {
  "kernelspec": {
   "display_name": "Python 2",
   "language": "python",
   "name": "python2"
  },
  "language_info": {
   "codemirror_mode": {
    "name": "ipython",
    "version": 2
   },
   "file_extension": ".py",
   "mimetype": "text/x-python",
   "name": "python",
   "nbconvert_exporter": "python",
   "pygments_lexer": "ipython2",
   "version": "2.7.3"
  }
 },
 "nbformat": 4,
 "nbformat_minor": 2
}
